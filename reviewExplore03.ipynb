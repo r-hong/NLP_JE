{
 "cells": [
  {
   "cell_type": "markdown",
   "metadata": {},
   "source": [
    "Exploratory analysis of the review data to find:\n",
    "* When is the time in which most reviews are written?"
   ]
  },
  {
   "cell_type": "code",
   "execution_count": 1,
   "metadata": {
    "collapsed": false
   },
   "outputs": [
    {
     "name": "stdout",
     "output_type": "stream",
     "text": [
      "[(1, )]\n"
     ]
    }
   ],
   "source": [
    "import pyodbc\n",
    "dwh_login = {'option': '3',\n",
    "             'database': 'datawarehouse',\n",
    "             'driver': '{PostgreSQL ANSI}',\n",
    "             'server': 'je-dw.cspauv1pfeh3.eu-west-1.redshift.amazonaws.com',\n",
    "             'pwd': '',\n",
    "             'user': '',\n",
    "             'port': '5439'}\n",
    "\n",
    "sql = 'select 1;'\n",
    "\n",
    "try:\n",
    "    schema_conn = pyodbc.connect('DSN=Redshift x64')\n",
    "    schema_db = schema_conn.cursor()\n",
    "    data = schema_db.execute(sql).fetchall()\n",
    "    schema_conn.commit()\n",
    "#    schema_db.close()\n",
    "#    schema_conn.close()\n",
    "except Exception, ex:\n",
    "    raise\n",
    "\n",
    "print data"
   ]
  },
  {
   "cell_type": "code",
   "execution_count": 6,
   "metadata": {
    "collapsed": false
   },
   "outputs": [],
   "source": [
    "#What is the number of customer reviews per year in the ecom.rating table\n",
    "%matplotlib inline\n",
    "from scipy.stats import kde\n",
    "import pandas as pd\n",
    "import matplotlib\n",
    "import numpy as np\n",
    "import matplotlib.pyplot as plt\n",
    "q=\"\"\"\n",
    "select datepart(hour,rate_date) as hour, datepart(hour,rate_date)*60+datepart(min,rate_date) as total_min from ecom.rating where commentary<>'' and country_key=8\n",
    "ORDER BY RANDOM()\n",
    "limit 1000\n",
    "\"\"\"\n",
    "df = pd.read_sql(q, schema_conn)\n",
    "\n",
    "### plotting (hours) ###\n",
    "#kernel density stimation (non-parametric prob distrib)\n",
    "NN=30\n",
    "x1=np.asarray(df[\"hour\"])\n",
    "density1 = kde.gaussian_kde(x1)\n",
    "xgrid1 = np.linspace(x1.min(), x1.max(), NN)\n",
    "\n",
    "plt.title(\"Probability distribution of customer reviews\",fontsize=24)\n",
    "plt.xlabel(\"Time (in hours)\",fontsize=20)\n",
    "plt.ylabel(\"Prob. Density Function\",fontsize=20)\n",
    "plt.tick_params(axis='both', which='major', labelsize=18)\n",
    "plt.plot(xgrid1, density1(xgrid1), 'r-',linewidth=2.0)\n",
    "plt.plot(x1, np.zeros(x1.shape), 'r+', ms=12) #rug plot\n",
    "\n",
    "plt.show()\n",
    "\n",
    "### plotting (min) ###\n",
    "#kernel density stimation (non-parametric prob distrib)\n",
    "NN=100\n",
    "x1=np.asarray(df[\"total_min\"])\n",
    "density1 = kde.gaussian_kde(x1)\n",
    "xgrid1 = np.linspace(x1.min(), x1.max(), NN)\n",
    "\n",
    "plt.title(\"Probability distribution of customer reviews\")\n",
    "plt.xlabel(\"Time (in total minutes)\")\n",
    "plt.ylabel(\"Prob. Density Function\")\n",
    "plt.plot(xgrid1, density1(xgrid1), 'b-')\n",
    "plt.plot(x1, np.zeros(x1.shape), 'b+', ms=12) #rug plot\n",
    "plt.show()\n"
   ]
  }
 ],
 "metadata": {
  "kernelspec": {
   "display_name": "Python 2",
   "language": "python",
   "name": "python2"
  },
  "language_info": {
   "codemirror_mode": {
    "name": "ipython",
    "version": 2
   },
   "file_extension": ".py",
   "mimetype": "text/x-python",
   "name": "python",
   "nbconvert_exporter": "python",
   "pygments_lexer": "ipython2",
   "version": "2.7.11"
  }
 },
 "nbformat": 4,
 "nbformat_minor": 0
}
