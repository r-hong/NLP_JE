{
 "cells": [
  {
   "cell_type": "markdown",
   "metadata": {},
   "source": [
    "Exploratory analysis of the review data to find:\n",
    "* What is the size distribution as well as the mean/median size of the reviews."
   ]
  },
  {
   "cell_type": "code",
   "execution_count": 1,
   "metadata": {
    "collapsed": false
   },
   "outputs": [
    {
     "name": "stdout",
     "output_type": "stream",
     "text": [
      "[(1, )]\n"
     ]
    }
   ],
   "source": [
    "import pyodbc\n",
    "dwh_login = {'option': '3',\n",
    "             'database': 'datawarehouse',\n",
    "             'driver': '{PostgreSQL ANSI}',\n",
    "             'server': 'je-dw.cspauv1pfeh3.eu-west-1.redshift.amazonaws.com',\n",
    "             'pwd': '',\n",
    "             'user': '',\n",
    "             'port': '5439'}\n",
    "\n",
    "sql = 'select 1;'\n",
    "\n",
    "try:\n",
    "    schema_conn = pyodbc.connect('DSN=Redshift x64')\n",
    "    schema_db = schema_conn.cursor()\n",
    "    data = schema_db.execute(sql).fetchall()\n",
    "    schema_conn.commit()\n",
    "#    schema_db.close()\n",
    "#    schema_conn.close()\n",
    "except Exception, ex:\n",
    "    raise\n",
    "\n",
    "print data"
   ]
  },
  {
   "cell_type": "code",
   "execution_count": 10,
   "metadata": {
    "collapsed": false
   },
   "outputs": [
    {
     "name": "stdout",
     "output_type": "stream",
     "text": [
      "units: number of characters in a review\n",
      "----------------------------------------\n",
      "mean:  113.6434\n",
      "median 72.0\n",
      "std 132.521755333\n",
      "----------------------------------------\n"
     ]
    }
   ],
   "source": [
    "#What is the number of customer reviews per year in the ecom.rating table\n",
    "#%matplotlib inline\n",
    "from scipy.stats import kde\n",
    "import pandas as pd\n",
    "import matplotlib\n",
    "import numpy as np\n",
    "import matplotlib.pyplot as plt\n",
    "q1=\"\"\"\n",
    "select commentary as review from ecom.rating where commentary<>'' and country_key=8\n",
    "ORDER BY RANDOM()\n",
    "limit 10000\n",
    "\"\"\"\n",
    "#function that returns the vector of values (lentgh of each string/review) their mean and their std.\n",
    "def getDescriptive(df):\n",
    "    vectorD=[]\n",
    "    for i in range(len(df)):\n",
    "        vectorD.append(len(df[\"review\"][i]))\n",
    "    return vectorD, np.mean(vectorD), np.median(vectorD), np.std(vectorD)    \n",
    "\n",
    "df1 = pd.read_sql(q1, schema_conn)\n",
    "vector1, mean1, median1, std1 = getDescriptive(df1)\n",
    "\n",
    "print \"units: number of characters in a review\"\n",
    "print \"----------------------------------------\"\n",
    "print \"mean: \", mean1\n",
    "print \"median\", median1\n",
    "print \"std\", std1\n",
    "print \"----------------------------------------\"\n",
    "\n",
    "### plotting (review length) ###\n",
    "#kernel density stimation (non-parametric prob distrib)\n",
    "NN=200\n",
    "x1=np.asarray(vector1)\n",
    "density1 = kde.gaussian_kde(x1)\n",
    "xgrid1 = np.linspace(x1.min(), x1.max(), NN)\n",
    "\n",
    "plt.title(\"Probability distribution review lengths\",fontsize=22)\n",
    "plt.xlabel(\"Length of the review (in characters)\",fontsize=18)\n",
    "plt.ylabel(\"Prob. Density Function\",fontsize=18)\n",
    "plt.xlim([0,500])\n",
    "plt.tick_params(axis='both', which='major', labelsize=16)\n",
    "plt.plot(xgrid1, density1(xgrid1), 'r-',linewidth=2.0)\n",
    "plt.plot(x1, np.zeros(x1.shape), 'r+', ms=12) #rug plot\n",
    "plt.show()"
   ]
  }
 ],
 "metadata": {
  "kernelspec": {
   "display_name": "Python 2",
   "language": "python",
   "name": "python2"
  },
  "language_info": {
   "codemirror_mode": {
    "name": "ipython",
    "version": 2
   },
   "file_extension": ".py",
   "mimetype": "text/x-python",
   "name": "python",
   "nbconvert_exporter": "python",
   "pygments_lexer": "ipython2",
   "version": "2.7.11"
  }
 },
 "nbformat": 4,
 "nbformat_minor": 0
}
